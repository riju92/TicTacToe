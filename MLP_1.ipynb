{
 "cells": [
  {
   "cell_type": "code",
   "execution_count": 14,
   "metadata": {},
   "outputs": [],
   "source": [
    "import numpy as np\n",
    "dataset = np.loadtxt('datasets-part1/tictac_final.txt')\n"
   ]
  },
  {
   "cell_type": "code",
   "execution_count": 15,
   "metadata": {},
   "outputs": [],
   "source": [
    "np.random.shuffle(dataset)"
   ]
  },
  {
   "cell_type": "code",
   "execution_count": 16,
   "metadata": {},
   "outputs": [],
   "source": [
    "X = dataset[:, :9]\n",
    "Y = dataset[:,9:]"
   ]
  },
  {
   "cell_type": "code",
   "execution_count": 17,
   "metadata": {},
   "outputs": [
    {
     "name": "stdout",
     "output_type": "stream",
     "text": [
      "(958, 9)\n",
      "(958, 1)\n"
     ]
    }
   ],
   "source": [
    "print(X.shape)\n",
    "print(Y.shape)"
   ]
  },
  {
   "cell_type": "code",
   "execution_count": 18,
   "metadata": {},
   "outputs": [],
   "source": [
    "from sklearn.neural_network import MLPClassifier\n",
    "from sklearn.pipeline import Pipeline\n",
    "from sklearn.metrics import confusion_matrix"
   ]
  },
  {
   "cell_type": "code",
   "execution_count": 19,
   "metadata": {},
   "outputs": [],
   "source": [
    "def MLP(train_X, test_X, train_Y, test_Y):\n",
    "    n_neighbors = 15\n",
    "    print(test_X.shape)\n",
    "    print(test_Y.shape)\n",
    "    \n",
    "    clf = MLPClassifier(random_state=1, max_iter=300)\n",
    "    clf.fit(train_X, train_Y)\n",
    "    res = clf.predict(test_X)\n",
    "    res_cm = res\n",
    "    res = np.asarray(res)\n",
    "    res = np.reshape(res, (-1, test_Y.shape[0]))\n",
    "    accuracy = 0.0\n",
    "    for i in range(res.shape[1]):\n",
    "        if(res[0][i] == test_Y[i][0]):\n",
    "            accuracy += 1\n",
    "    print(accuracy)\n",
    "    print(\"Accuracy = \" + str(accuracy/res.shape[1]))\n",
    "    print(\"#### CONFUSION MATRIX ##########\")\n",
    "    cm = confusion_matrix(test_Y, res_cm)\n",
    "    cm = cm / cm.sum(axis=1)[:, np.newaxis]\n",
    "    print(cm)\n",
    "    return accuracy/res.shape[1], clf"
   ]
  },
  {
   "cell_type": "code",
   "execution_count": 20,
   "metadata": {},
   "outputs": [],
   "source": [
    "#train_X = X[0:800]\n",
    "#test_X = X[800:958]\n",
    "#train_Y = Y[0:800]\n",
    "#test_Y = Y[800:958]\n",
    "\n",
    "#print(test_Y.shape)\n",
    "#print(test_Y)\n",
    "#k fold validation\n",
    "#k_cross_fold = 1\n",
    "\n",
    "#res = linearSVM(train_X, test_X, train_Y, test_Y)\n",
    "    "
   ]
  },
  {
   "cell_type": "code",
   "execution_count": 21,
   "metadata": {},
   "outputs": [
    {
     "name": "stdout",
     "output_type": "stream",
     "text": [
      "(96, 9)\n",
      "(96, 1)\n"
     ]
    },
    {
     "name": "stderr",
     "output_type": "stream",
     "text": [
      "/usr/lib64/python3.8/site-packages/sklearn/neural_network/_multilayer_perceptron.py:934: DataConversionWarning: A column-vector y was passed when a 1d array was expected. Please change the shape of y to (n_samples, ), for example using ravel().\n",
      "  y = column_or_1d(y, warn=True)\n"
     ]
    },
    {
     "name": "stdout",
     "output_type": "stream",
     "text": [
      "95.0\n",
      "Accuracy = 0.9895833333333334\n",
      "#### CONFUSION MATRIX ##########\n",
      "[[0.97058824 0.02941176]\n",
      " [0.         1.        ]]\n",
      "#######################\n",
      "(96, 9)\n",
      "(96, 1)\n"
     ]
    },
    {
     "name": "stderr",
     "output_type": "stream",
     "text": [
      "/usr/lib64/python3.8/site-packages/sklearn/neural_network/_multilayer_perceptron.py:934: DataConversionWarning: A column-vector y was passed when a 1d array was expected. Please change the shape of y to (n_samples, ), for example using ravel().\n",
      "  y = column_or_1d(y, warn=True)\n"
     ]
    },
    {
     "name": "stdout",
     "output_type": "stream",
     "text": [
      "94.0\n",
      "Accuracy = 0.9791666666666666\n",
      "#### CONFUSION MATRIX ##########\n",
      "[[0.94117647 0.05882353]\n",
      " [0.         1.        ]]\n",
      "#######################\n",
      "(96, 9)\n",
      "(96, 1)\n"
     ]
    },
    {
     "name": "stderr",
     "output_type": "stream",
     "text": [
      "/usr/lib64/python3.8/site-packages/sklearn/neural_network/_multilayer_perceptron.py:934: DataConversionWarning: A column-vector y was passed when a 1d array was expected. Please change the shape of y to (n_samples, ), for example using ravel().\n",
      "  y = column_or_1d(y, warn=True)\n"
     ]
    },
    {
     "name": "stdout",
     "output_type": "stream",
     "text": [
      "93.0\n",
      "Accuracy = 0.96875\n",
      "#### CONFUSION MATRIX ##########\n",
      "[[0.90909091 0.09090909]\n",
      " [0.         1.        ]]\n",
      "#######################\n",
      "(96, 9)\n",
      "(96, 1)\n"
     ]
    },
    {
     "name": "stderr",
     "output_type": "stream",
     "text": [
      "/usr/lib64/python3.8/site-packages/sklearn/neural_network/_multilayer_perceptron.py:934: DataConversionWarning: A column-vector y was passed when a 1d array was expected. Please change the shape of y to (n_samples, ), for example using ravel().\n",
      "  y = column_or_1d(y, warn=True)\n"
     ]
    },
    {
     "name": "stdout",
     "output_type": "stream",
     "text": [
      "96.0\n",
      "Accuracy = 1.0\n",
      "#### CONFUSION MATRIX ##########\n",
      "[[1. 0.]\n",
      " [0. 1.]]\n",
      "#######################\n",
      "(96, 9)\n",
      "(96, 1)\n"
     ]
    },
    {
     "name": "stderr",
     "output_type": "stream",
     "text": [
      "/usr/lib64/python3.8/site-packages/sklearn/neural_network/_multilayer_perceptron.py:934: DataConversionWarning: A column-vector y was passed when a 1d array was expected. Please change the shape of y to (n_samples, ), for example using ravel().\n",
      "  y = column_or_1d(y, warn=True)\n"
     ]
    },
    {
     "name": "stdout",
     "output_type": "stream",
     "text": [
      "92.0\n",
      "Accuracy = 0.9583333333333334\n",
      "#### CONFUSION MATRIX ##########\n",
      "[[0.87878788 0.12121212]\n",
      " [0.         1.        ]]\n",
      "#######################\n",
      "(96, 9)\n",
      "(96, 1)\n"
     ]
    },
    {
     "name": "stderr",
     "output_type": "stream",
     "text": [
      "/usr/lib64/python3.8/site-packages/sklearn/neural_network/_multilayer_perceptron.py:934: DataConversionWarning: A column-vector y was passed when a 1d array was expected. Please change the shape of y to (n_samples, ), for example using ravel().\n",
      "  y = column_or_1d(y, warn=True)\n"
     ]
    },
    {
     "name": "stdout",
     "output_type": "stream",
     "text": [
      "95.0\n",
      "Accuracy = 0.9895833333333334\n",
      "#### CONFUSION MATRIX ##########\n",
      "[[0.96969697 0.03030303]\n",
      " [0.         1.        ]]\n",
      "#######################\n",
      "(96, 9)\n",
      "(96, 1)\n"
     ]
    },
    {
     "name": "stderr",
     "output_type": "stream",
     "text": [
      "/usr/lib64/python3.8/site-packages/sklearn/neural_network/_multilayer_perceptron.py:934: DataConversionWarning: A column-vector y was passed when a 1d array was expected. Please change the shape of y to (n_samples, ), for example using ravel().\n",
      "  y = column_or_1d(y, warn=True)\n"
     ]
    },
    {
     "name": "stdout",
     "output_type": "stream",
     "text": [
      "96.0\n",
      "Accuracy = 1.0\n",
      "#### CONFUSION MATRIX ##########\n",
      "[[1. 0.]\n",
      " [0. 1.]]\n",
      "#######################\n",
      "(96, 9)\n",
      "(96, 1)\n"
     ]
    },
    {
     "name": "stderr",
     "output_type": "stream",
     "text": [
      "/usr/lib64/python3.8/site-packages/sklearn/neural_network/_multilayer_perceptron.py:934: DataConversionWarning: A column-vector y was passed when a 1d array was expected. Please change the shape of y to (n_samples, ), for example using ravel().\n",
      "  y = column_or_1d(y, warn=True)\n"
     ]
    },
    {
     "name": "stdout",
     "output_type": "stream",
     "text": [
      "94.0\n",
      "Accuracy = 0.9791666666666666\n",
      "#### CONFUSION MATRIX ##########\n",
      "[[0.93939394 0.06060606]\n",
      " [0.         1.        ]]\n",
      "#######################\n",
      "(95, 9)\n",
      "(95, 1)\n"
     ]
    },
    {
     "name": "stderr",
     "output_type": "stream",
     "text": [
      "/usr/lib64/python3.8/site-packages/sklearn/neural_network/_multilayer_perceptron.py:934: DataConversionWarning: A column-vector y was passed when a 1d array was expected. Please change the shape of y to (n_samples, ), for example using ravel().\n",
      "  y = column_or_1d(y, warn=True)\n"
     ]
    },
    {
     "name": "stdout",
     "output_type": "stream",
     "text": [
      "93.0\n",
      "Accuracy = 0.9789473684210527\n",
      "#### CONFUSION MATRIX ##########\n",
      "[[0.93939394 0.06060606]\n",
      " [0.         1.        ]]\n",
      "#######################\n",
      "(95, 9)\n",
      "(95, 1)\n"
     ]
    },
    {
     "name": "stderr",
     "output_type": "stream",
     "text": [
      "/usr/lib64/python3.8/site-packages/sklearn/neural_network/_multilayer_perceptron.py:934: DataConversionWarning: A column-vector y was passed when a 1d array was expected. Please change the shape of y to (n_samples, ), for example using ravel().\n",
      "  y = column_or_1d(y, warn=True)\n"
     ]
    },
    {
     "name": "stdout",
     "output_type": "stream",
     "text": [
      "95.0\n",
      "Accuracy = 1.0\n",
      "#### CONFUSION MATRIX ##########\n",
      "[[1. 0.]\n",
      " [0. 1.]]\n",
      "#######################\n",
      "Max accuracy = 100.0\n",
      "Min accuracy = 95.83333333333334\n",
      "Avg accuracy = 98.43530701754386\n"
     ]
    }
   ],
   "source": [
    "from sklearn.model_selection import StratifiedKFold\n",
    "\n",
    "accuracy_max = 0.0\n",
    "accuracy_min = 100.0\n",
    "accuracy_avg = 0.0\n",
    "\n",
    "best_clf = 0\n",
    "\n",
    "k_cross_fold = 10\n",
    "\n",
    "skf = StratifiedKFold(n_splits=k_cross_fold)\n",
    "for train_index, test_index in skf.split(X, Y):\n",
    "    train_X, test_X = X[train_index], X[test_index]\n",
    "    train_Y, test_Y = Y[train_index], Y[test_index]\n",
    "    \n",
    "    accuracy, clf = MLP(train_X, test_X, train_Y, test_Y)\n",
    "    accuracy *= 100\n",
    "    \n",
    "    if(accuracy > accuracy_max):\n",
    "        accuracy_max = accuracy\n",
    "        best_clf = clf\n",
    "    accuracy_min = min(accuracy_min, accuracy)\n",
    "    accuracy_avg += accuracy\n",
    "    \n",
    "    print(\"#######################\")\n",
    "    \n",
    "print(\"Max accuracy = \" + str(accuracy_max))\n",
    "print(\"Min accuracy = \" + str(accuracy_min))\n",
    "print(\"Avg accuracy = \" + str(accuracy_avg/k_cross_fold))\n"
   ]
  },
  {
   "cell_type": "code",
   "execution_count": null,
   "metadata": {},
   "outputs": [],
   "source": []
  }
 ],
 "metadata": {
  "kernelspec": {
   "display_name": "Python 3",
   "language": "python",
   "name": "python3"
  },
  "language_info": {
   "codemirror_mode": {
    "name": "ipython",
    "version": 3
   },
   "file_extension": ".py",
   "mimetype": "text/x-python",
   "name": "python",
   "nbconvert_exporter": "python",
   "pygments_lexer": "ipython3",
   "version": "3.8.5"
  }
 },
 "nbformat": 4,
 "nbformat_minor": 2
}
