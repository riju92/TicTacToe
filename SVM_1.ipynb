{
 "cells": [
  {
   "cell_type": "code",
   "execution_count": 71,
   "metadata": {},
   "outputs": [],
   "source": [
    "import numpy as np\n",
    "dataset = np.loadtxt('./datasets-part1/tictac_final.txt')\n"
   ]
  },
  {
   "cell_type": "code",
   "execution_count": 72,
   "metadata": {},
   "outputs": [],
   "source": [
    "np.random.shuffle(dataset)"
   ]
  },
  {
   "cell_type": "code",
   "execution_count": 73,
   "metadata": {},
   "outputs": [],
   "source": [
    "X = dataset[:, :9]\n",
    "Y = dataset[:,9:]"
   ]
  },
  {
   "cell_type": "code",
   "execution_count": 74,
   "metadata": {},
   "outputs": [
    {
     "name": "stdout",
     "output_type": "stream",
     "text": [
      "(958, 9)\n",
      "(958, 1)\n",
      "958\n"
     ]
    }
   ],
   "source": [
    "print(X.shape)\n",
    "print(Y.shape)\n",
    "print(Y.shape[0])"
   ]
  },
  {
   "cell_type": "code",
   "execution_count": 75,
   "metadata": {},
   "outputs": [],
   "source": [
    "from sklearn.svm import LinearSVC\n",
    "from sklearn.pipeline import make_pipeline\n",
    "from sklearn.preprocessing import StandardScaler\n",
    "from sklearn.model_selection import cross_val_score\n",
    "from sklearn.metrics import confusion_matrix"
   ]
  },
  {
   "cell_type": "code",
   "execution_count": 76,
   "metadata": {},
   "outputs": [],
   "source": [
    "def linearSVM(train_X, test_X, train_Y, test_Y):\n",
    "    print(test_X.shape)\n",
    "    print(test_Y.shape)\n",
    "    clf = make_pipeline(StandardScaler(), LinearSVC(random_state=0, tol=1e-5))\n",
    "    clf.fit(train_X, train_Y)\n",
    "    res = clf.predict(test_X)\n",
    "    res_cm = res\n",
    "    res = np.asarray(res)\n",
    "    res = np.reshape(res, (-1, test_Y.shape[0]))\n",
    "    accuracy = 0.0\n",
    "    for i in range(res.shape[1]):\n",
    "        if(res[0][i] == test_Y[i][0]):\n",
    "            accuracy += 1\n",
    "    print(accuracy)\n",
    "    print(\"Accuracy = \" + str(accuracy/res.shape[1]))\n",
    "    print(\"Prediction shape:\" + str(res.shape))\n",
    "    print(\"#### CONFUSION MATRIX ##########\")\n",
    "    cm = confusion_matrix(test_Y, res_cm)\n",
    "    cm = cm / cm.sum(axis=1)[:, np.newaxis]\n",
    "    print(cm)\n",
    "    return accuracy/res.shape[1], clf"
   ]
  },
  {
   "cell_type": "code",
   "execution_count": 77,
   "metadata": {},
   "outputs": [],
   "source": [
    "#train_X = X[0:800]\n",
    "#test_X = X[800:958]\n",
    "#train_Y = Y[0:800]\n",
    "#test_Y = Y[800:958]\n",
    "\n",
    "#print(test_Y.shape)\n",
    "#print(test_Y)\n",
    "#k fold validation\n",
    "#k_cross_fold = 1\n",
    "\n",
    "#res = linearSVM(train_X, test_X, train_Y, test_Y)\n",
    "    "
   ]
  },
  {
   "cell_type": "code",
   "execution_count": 78,
   "metadata": {},
   "outputs": [
    {
     "name": "stdout",
     "output_type": "stream",
     "text": [
      "(96, 9)\n",
      "(96, 1)\n",
      "94.0\n",
      "Accuracy = 0.9791666666666666\n",
      "Prediction shape:(1, 96)\n",
      "#### CONFUSION MATRIX ##########\n",
      "[[0.93939394 0.06060606]\n",
      " [0.         1.        ]]\n",
      "#######################\n",
      "(96, 9)\n",
      "(96, 1)\n",
      "94.0\n",
      "Accuracy = 0.9791666666666666\n",
      "Prediction shape:(1, 96)\n",
      "#### CONFUSION MATRIX ##########\n",
      "[[0.93939394 0.06060606]\n",
      " [0.         1.        ]]\n",
      "#######################\n",
      "(96, 9)\n",
      "(96, 1)\n",
      "94.0\n",
      "Accuracy = 0.9791666666666666\n",
      "Prediction shape:(1, 96)\n",
      "#### CONFUSION MATRIX ##########\n",
      "[[0.93939394 0.06060606]\n",
      " [0.         1.        ]]\n",
      "#######################\n",
      "(96, 9)\n",
      "(96, 1)\n",
      "94.0\n",
      "Accuracy = 0.9791666666666666\n",
      "Prediction shape:(1, 96)\n",
      "#### CONFUSION MATRIX ##########\n",
      "[[0.93939394 0.06060606]\n",
      " [0.         1.        ]]\n",
      "#######################\n",
      "(96, 9)\n",
      "(96, 1)\n",
      "95.0\n",
      "Accuracy = 0.9895833333333334\n",
      "Prediction shape:(1, 96)\n",
      "#### CONFUSION MATRIX ##########\n",
      "[[0.96969697 0.03030303]\n",
      " [0.         1.        ]]\n",
      "#######################\n",
      "(96, 9)\n",
      "(96, 1)\n",
      "95.0\n",
      "Accuracy = 0.9895833333333334\n",
      "Prediction shape:(1, 96)\n",
      "#### CONFUSION MATRIX ##########\n",
      "[[0.96969697 0.03030303]\n",
      " [0.         1.        ]]\n",
      "#######################\n",
      "(96, 9)\n",
      "(96, 1)\n",
      "94.0\n",
      "Accuracy = 0.9791666666666666\n",
      "Prediction shape:(1, 96)\n",
      "#### CONFUSION MATRIX ##########\n",
      "[[0.94117647 0.05882353]\n",
      " [0.         1.        ]]\n",
      "#######################\n",
      "(96, 9)\n",
      "(96, 1)\n",
      "95.0\n",
      "Accuracy = 0.9895833333333334\n",
      "Prediction shape:(1, 96)\n",
      "#### CONFUSION MATRIX ##########\n",
      "[[0.97058824 0.02941176]\n",
      " [0.         1.        ]]\n",
      "#######################\n",
      "(95, 9)\n",
      "(95, 1)\n",
      "93.0\n",
      "Accuracy = 0.9789473684210527\n",
      "Prediction shape:(1, 95)\n",
      "#### CONFUSION MATRIX ##########\n",
      "[[0.93939394 0.06060606]\n",
      " [0.         1.        ]]\n",
      "#######################\n",
      "(95, 9)\n",
      "(95, 1)\n",
      "94.0\n",
      "Accuracy = 0.9894736842105263\n",
      "Prediction shape:(1, 95)\n",
      "#### CONFUSION MATRIX ##########\n",
      "[[0.96969697 0.03030303]\n",
      " [0.         1.        ]]\n",
      "#######################\n",
      "Max accuracy = 98.95833333333334\n",
      "Min accuracy = 97.89473684210527\n",
      "Avg accuracy = 98.33004385964912\n"
     ]
    },
    {
     "name": "stderr",
     "output_type": "stream",
     "text": [
      "/usr/lib64/python3.8/site-packages/sklearn/utils/validation.py:760: DataConversionWarning: A column-vector y was passed when a 1d array was expected. Please change the shape of y to (n_samples, ), for example using ravel().\n",
      "  y = column_or_1d(y, warn=True)\n",
      "/usr/lib64/python3.8/site-packages/sklearn/utils/validation.py:760: DataConversionWarning: A column-vector y was passed when a 1d array was expected. Please change the shape of y to (n_samples, ), for example using ravel().\n",
      "  y = column_or_1d(y, warn=True)\n",
      "/usr/lib64/python3.8/site-packages/sklearn/utils/validation.py:760: DataConversionWarning: A column-vector y was passed when a 1d array was expected. Please change the shape of y to (n_samples, ), for example using ravel().\n",
      "  y = column_or_1d(y, warn=True)\n",
      "/usr/lib64/python3.8/site-packages/sklearn/utils/validation.py:760: DataConversionWarning: A column-vector y was passed when a 1d array was expected. Please change the shape of y to (n_samples, ), for example using ravel().\n",
      "  y = column_or_1d(y, warn=True)\n",
      "/usr/lib64/python3.8/site-packages/sklearn/utils/validation.py:760: DataConversionWarning: A column-vector y was passed when a 1d array was expected. Please change the shape of y to (n_samples, ), for example using ravel().\n",
      "  y = column_or_1d(y, warn=True)\n",
      "/usr/lib64/python3.8/site-packages/sklearn/utils/validation.py:760: DataConversionWarning: A column-vector y was passed when a 1d array was expected. Please change the shape of y to (n_samples, ), for example using ravel().\n",
      "  y = column_or_1d(y, warn=True)\n",
      "/usr/lib64/python3.8/site-packages/sklearn/utils/validation.py:760: DataConversionWarning: A column-vector y was passed when a 1d array was expected. Please change the shape of y to (n_samples, ), for example using ravel().\n",
      "  y = column_or_1d(y, warn=True)\n",
      "/usr/lib64/python3.8/site-packages/sklearn/utils/validation.py:760: DataConversionWarning: A column-vector y was passed when a 1d array was expected. Please change the shape of y to (n_samples, ), for example using ravel().\n",
      "  y = column_or_1d(y, warn=True)\n",
      "/usr/lib64/python3.8/site-packages/sklearn/utils/validation.py:760: DataConversionWarning: A column-vector y was passed when a 1d array was expected. Please change the shape of y to (n_samples, ), for example using ravel().\n",
      "  y = column_or_1d(y, warn=True)\n",
      "/usr/lib64/python3.8/site-packages/sklearn/utils/validation.py:760: DataConversionWarning: A column-vector y was passed when a 1d array was expected. Please change the shape of y to (n_samples, ), for example using ravel().\n",
      "  y = column_or_1d(y, warn=True)\n"
     ]
    }
   ],
   "source": [
    "from sklearn.model_selection import StratifiedKFold\n",
    "\n",
    "accuracy_max = 0.0\n",
    "accuracy_min = 100.0\n",
    "accuracy_avg = 0.0\n",
    "\n",
    "best_clf = 0\n",
    "\n",
    "k_cross_fold = 10\n",
    "\n",
    "skf = StratifiedKFold(n_splits=k_cross_fold)\n",
    "for train_index, test_index in skf.split(X, Y):\n",
    "    train_X, test_X = X[train_index], X[test_index]\n",
    "    train_Y, test_Y = Y[train_index], Y[test_index]\n",
    "    \n",
    "    accuracy, clf = linearSVM(train_X, test_X, train_Y, test_Y)\n",
    "    accuracy *= 100\n",
    "    \n",
    "    if(accuracy > accuracy_max):\n",
    "        accuracy_max = accuracy\n",
    "        best_clf = clf\n",
    "    accuracy_min = min(accuracy_min, accuracy)\n",
    "    accuracy_avg += accuracy\n",
    "    \n",
    "    print(\"#######################\")\n",
    "    \n",
    "print(\"Max accuracy = \" + str(accuracy_max))\n",
    "print(\"Min accuracy = \" + str(accuracy_min))\n",
    "print(\"Avg accuracy = \" + str(accuracy_avg/k_cross_fold))\n",
    "\n"
   ]
  },
  {
   "cell_type": "code",
   "execution_count": null,
   "metadata": {},
   "outputs": [],
   "source": []
  }
 ],
 "metadata": {
  "kernelspec": {
   "display_name": "Python 3",
   "language": "python",
   "name": "python3"
  },
  "language_info": {
   "codemirror_mode": {
    "name": "ipython",
    "version": 3
   },
   "file_extension": ".py",
   "mimetype": "text/x-python",
   "name": "python",
   "nbconvert_exporter": "python",
   "pygments_lexer": "ipython3",
   "version": "3.8.5"
  }
 },
 "nbformat": 4,
 "nbformat_minor": 2
}
