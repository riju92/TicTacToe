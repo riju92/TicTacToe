{
 "cells": [
  {
   "cell_type": "code",
   "execution_count": 9,
   "metadata": {},
   "outputs": [],
   "source": [
    "import numpy as np\n",
    "dataset = np.loadtxt('tictac_single.txt')\n"
   ]
  },
  {
   "cell_type": "code",
   "execution_count": 10,
   "metadata": {},
   "outputs": [],
   "source": [
    "np.random.shuffle(dataset)"
   ]
  },
  {
   "cell_type": "code",
   "execution_count": 11,
   "metadata": {},
   "outputs": [],
   "source": [
    "X = dataset[:, :9]\n",
    "Y = dataset[:,9:]"
   ]
  },
  {
   "cell_type": "code",
   "execution_count": 12,
   "metadata": {},
   "outputs": [
    {
     "name": "stdout",
     "output_type": "stream",
     "text": [
      "(6551, 9)\n",
      "(6551, 1)\n"
     ]
    }
   ],
   "source": [
    "print(X.shape)\n",
    "print(Y.shape)"
   ]
  },
  {
   "cell_type": "code",
   "execution_count": 13,
   "metadata": {},
   "outputs": [],
   "source": [
    "from sklearn.neural_network import MLPClassifier\n",
    "from sklearn.pipeline import Pipeline\n",
    "from sklearn.metrics import confusion_matrix"
   ]
  },
  {
   "cell_type": "code",
   "execution_count": 14,
   "metadata": {},
   "outputs": [],
   "source": [
    "def MLP(train_X, test_X, train_Y, test_Y):\n",
    "    n_neighbors = 15\n",
    "    print(test_X.shape)\n",
    "    print(test_Y.shape)\n",
    "    \n",
    "    clf = MLPClassifier(random_state=1, max_iter=1000)\n",
    "    clf.fit(train_X, train_Y)\n",
    "    res = clf.predict(test_X)\n",
    "    res_cm = res\n",
    "    res = np.asarray(res)\n",
    "    res = np.reshape(res, (-1, test_Y.shape[0]))\n",
    "    accuracy = 0.0\n",
    "    for i in range(res.shape[1]):\n",
    "        if(res[0][i] == test_Y[i][0]):\n",
    "            accuracy += 1\n",
    "    print(accuracy)\n",
    "    print(\"Accuracy = \" + str(accuracy/res.shape[1]))\n",
    "    print(\"#### CONFUSION MATRIX ##########\")\n",
    "    cm = confusion_matrix(test_Y, res_cm)\n",
    "    cm = cm / cm.sum(axis=1)[:, np.newaxis]\n",
    "    print(cm)\n",
    "    return accuracy/res.shape[1], clf"
   ]
  },
  {
   "cell_type": "code",
   "execution_count": 15,
   "metadata": {},
   "outputs": [],
   "source": [
    "#train_X = X[0:800]\n",
    "#test_X = X[800:958]\n",
    "#train_Y = Y[0:800]\n",
    "#test_Y = Y[800:958]\n",
    "\n",
    "#print(test_Y.shape)\n",
    "#print(test_Y)\n",
    "#k fold validation\n",
    "#k_cross_fold = 1\n",
    "\n",
    "#res = linearSVM(train_X, test_X, train_Y, test_Y)\n",
    "    "
   ]
  },
  {
   "cell_type": "code",
   "execution_count": 16,
   "metadata": {},
   "outputs": [
    {
     "name": "stdout",
     "output_type": "stream",
     "text": [
      "(656, 9)\n",
      "(656, 1)\n"
     ]
    },
    {
     "name": "stderr",
     "output_type": "stream",
     "text": [
      "/usr/lib64/python3.8/site-packages/sklearn/neural_network/_multilayer_perceptron.py:934: DataConversionWarning: A column-vector y was passed when a 1d array was expected. Please change the shape of y to (n_samples, ), for example using ravel().\n",
      "  y = column_or_1d(y, warn=True)\n",
      "/usr/lib64/python3.8/site-packages/sklearn/neural_network/_multilayer_perceptron.py:568: ConvergenceWarning: Stochastic Optimizer: Maximum iterations (1000) reached and the optimization hasn't converged yet.\n",
      "  warnings.warn(\n",
      "/usr/lib64/python3.8/site-packages/sklearn/neural_network/_multilayer_perceptron.py:934: DataConversionWarning: A column-vector y was passed when a 1d array was expected. Please change the shape of y to (n_samples, ), for example using ravel().\n",
      "  y = column_or_1d(y, warn=True)\n"
     ]
    },
    {
     "name": "stdout",
     "output_type": "stream",
     "text": [
      "607.0\n",
      "Accuracy = 0.9253048780487805\n",
      "#### CONFUSION MATRIX ##########\n",
      "[[0.96815287 0.         0.00636943 0.         0.         0.\n",
      "  0.00636943 0.         0.01910828]\n",
      " [0.01190476 0.86904762 0.03571429 0.01190476 0.03571429 0.01190476\n",
      "  0.02380952 0.         0.        ]\n",
      " [0.01020408 0.01020408 0.92857143 0.01020408 0.02040816 0.\n",
      "  0.01020408 0.01020408 0.        ]\n",
      " [0.03921569 0.         0.         0.82352941 0.01960784 0.\n",
      "  0.07843137 0.         0.03921569]\n",
      " [0.04807692 0.         0.00961538 0.         0.93269231 0.\n",
      "  0.00961538 0.         0.        ]\n",
      " [0.02777778 0.02777778 0.         0.         0.         0.94444444\n",
      "  0.         0.         0.        ]\n",
      " [0.         0.01851852 0.         0.03703704 0.         0.\n",
      "  0.94444444 0.         0.        ]\n",
      " [0.03846154 0.         0.         0.03846154 0.         0.\n",
      "  0.         0.92307692 0.        ]\n",
      " [0.         0.         0.         0.         0.04347826 0.\n",
      "  0.02173913 0.         0.93478261]]\n",
      "#######################\n",
      "(655, 9)\n",
      "(655, 1)\n"
     ]
    },
    {
     "name": "stderr",
     "output_type": "stream",
     "text": [
      "/usr/lib64/python3.8/site-packages/sklearn/neural_network/_multilayer_perceptron.py:568: ConvergenceWarning: Stochastic Optimizer: Maximum iterations (1000) reached and the optimization hasn't converged yet.\n",
      "  warnings.warn(\n",
      "/usr/lib64/python3.8/site-packages/sklearn/neural_network/_multilayer_perceptron.py:934: DataConversionWarning: A column-vector y was passed when a 1d array was expected. Please change the shape of y to (n_samples, ), for example using ravel().\n",
      "  y = column_or_1d(y, warn=True)\n"
     ]
    },
    {
     "name": "stdout",
     "output_type": "stream",
     "text": [
      "605.0\n",
      "Accuracy = 0.9236641221374046\n",
      "#### CONFUSION MATRIX ##########\n",
      "[[0.97452229 0.         0.         0.00636943 0.         0.00636943\n",
      "  0.         0.00636943 0.00636943]\n",
      " [0.01190476 0.86904762 0.07142857 0.02380952 0.         0.01190476\n",
      "  0.         0.         0.01190476]\n",
      " [0.03061224 0.02040816 0.8877551  0.01020408 0.03061224 0.\n",
      "  0.01020408 0.         0.01020408]\n",
      " [0.         0.03921569 0.         0.88235294 0.01960784 0.\n",
      "  0.03921569 0.01960784 0.        ]\n",
      " [0.00961538 0.01923077 0.01923077 0.         0.94230769 0.\n",
      "  0.         0.         0.00961538]\n",
      " [0.         0.02857143 0.         0.         0.         0.97142857\n",
      "  0.         0.         0.        ]\n",
      " [0.05555556 0.01851852 0.03703704 0.         0.         0.\n",
      "  0.88888889 0.         0.        ]\n",
      " [0.03846154 0.         0.03846154 0.         0.         0.03846154\n",
      "  0.         0.88461538 0.        ]\n",
      " [0.         0.02173913 0.         0.         0.02173913 0.\n",
      "  0.         0.         0.95652174]]\n",
      "#######################\n",
      "(655, 9)\n",
      "(655, 1)\n"
     ]
    },
    {
     "name": "stderr",
     "output_type": "stream",
     "text": [
      "/usr/lib64/python3.8/site-packages/sklearn/neural_network/_multilayer_perceptron.py:568: ConvergenceWarning: Stochastic Optimizer: Maximum iterations (1000) reached and the optimization hasn't converged yet.\n",
      "  warnings.warn(\n",
      "/usr/lib64/python3.8/site-packages/sklearn/neural_network/_multilayer_perceptron.py:934: DataConversionWarning: A column-vector y was passed when a 1d array was expected. Please change the shape of y to (n_samples, ), for example using ravel().\n",
      "  y = column_or_1d(y, warn=True)\n"
     ]
    },
    {
     "name": "stdout",
     "output_type": "stream",
     "text": [
      "607.0\n",
      "Accuracy = 0.9267175572519084\n",
      "#### CONFUSION MATRIX ##########\n",
      "[[0.92993631 0.01273885 0.01273885 0.01273885 0.00636943 0.00636943\n",
      "  0.00636943 0.         0.01273885]\n",
      " [0.01176471 0.88235294 0.02352941 0.01176471 0.03529412 0.01176471\n",
      "  0.         0.         0.02352941]\n",
      " [0.02061856 0.01030928 0.92783505 0.02061856 0.01030928 0.\n",
      "  0.01030928 0.         0.        ]\n",
      " [0.05882353 0.         0.         0.92156863 0.         0.\n",
      "  0.01960784 0.         0.        ]\n",
      " [0.         0.01923077 0.02884615 0.00961538 0.93269231 0.00961538\n",
      "  0.         0.         0.        ]\n",
      " [0.02857143 0.         0.         0.         0.         0.97142857\n",
      "  0.         0.         0.        ]\n",
      " [0.03703704 0.         0.         0.01851852 0.         0.03703704\n",
      "  0.90740741 0.         0.        ]\n",
      " [0.03846154 0.         0.         0.03846154 0.         0.\n",
      "  0.         0.92307692 0.        ]\n",
      " [0.02173913 0.         0.         0.         0.         0.\n",
      "  0.         0.         0.97826087]]\n",
      "#######################\n",
      "(655, 9)\n",
      "(655, 1)\n"
     ]
    },
    {
     "name": "stderr",
     "output_type": "stream",
     "text": [
      "/usr/lib64/python3.8/site-packages/sklearn/neural_network/_multilayer_perceptron.py:568: ConvergenceWarning: Stochastic Optimizer: Maximum iterations (1000) reached and the optimization hasn't converged yet.\n",
      "  warnings.warn(\n",
      "/usr/lib64/python3.8/site-packages/sklearn/neural_network/_multilayer_perceptron.py:934: DataConversionWarning: A column-vector y was passed when a 1d array was expected. Please change the shape of y to (n_samples, ), for example using ravel().\n",
      "  y = column_or_1d(y, warn=True)\n"
     ]
    },
    {
     "name": "stdout",
     "output_type": "stream",
     "text": [
      "623.0\n",
      "Accuracy = 0.9511450381679389\n",
      "#### CONFUSION MATRIX ##########\n",
      "[[0.96178344 0.01910828 0.         0.         0.01273885 0.00636943\n",
      "  0.         0.         0.        ]\n",
      " [0.01176471 0.92941176 0.         0.         0.02352941 0.03529412\n",
      "  0.         0.         0.        ]\n",
      " [0.02061856 0.         0.96907216 0.01030928 0.         0.\n",
      "  0.         0.         0.        ]\n",
      " [0.         0.         0.03921569 0.92156863 0.         0.\n",
      "  0.         0.         0.03921569]\n",
      " [0.01923077 0.00961538 0.         0.00961538 0.93269231 0.00961538\n",
      "  0.00961538 0.         0.00961538]\n",
      " [0.         0.         0.02857143 0.         0.         0.97142857\n",
      "  0.         0.         0.        ]\n",
      " [0.01851852 0.         0.         0.         0.         0.\n",
      "  0.98148148 0.         0.        ]\n",
      " [0.         0.03846154 0.         0.         0.         0.\n",
      "  0.         0.96153846 0.        ]\n",
      " [0.02173913 0.04347826 0.         0.         0.         0.\n",
      "  0.         0.         0.93478261]]\n",
      "#######################\n",
      "(655, 9)\n",
      "(655, 1)\n"
     ]
    },
    {
     "name": "stderr",
     "output_type": "stream",
     "text": [
      "/usr/lib64/python3.8/site-packages/sklearn/neural_network/_multilayer_perceptron.py:568: ConvergenceWarning: Stochastic Optimizer: Maximum iterations (1000) reached and the optimization hasn't converged yet.\n",
      "  warnings.warn(\n",
      "/usr/lib64/python3.8/site-packages/sklearn/neural_network/_multilayer_perceptron.py:934: DataConversionWarning: A column-vector y was passed when a 1d array was expected. Please change the shape of y to (n_samples, ), for example using ravel().\n",
      "  y = column_or_1d(y, warn=True)\n"
     ]
    },
    {
     "name": "stdout",
     "output_type": "stream",
     "text": [
      "607.0\n",
      "Accuracy = 0.9267175572519084\n",
      "#### CONFUSION MATRIX ##########\n",
      "[[0.94230769 0.00641026 0.00641026 0.         0.01923077 0.01282051\n",
      "  0.         0.00641026 0.00641026]\n",
      " [0.01176471 0.91764706 0.03529412 0.02352941 0.01176471 0.\n",
      "  0.         0.         0.        ]\n",
      " [0.04123711 0.01030928 0.92783505 0.         0.02061856 0.\n",
      "  0.         0.         0.        ]\n",
      " [0.01960784 0.         0.03921569 0.90196078 0.         0.\n",
      "  0.03921569 0.         0.        ]\n",
      " [0.03809524 0.         0.00952381 0.00952381 0.92380952 0.\n",
      "  0.01904762 0.         0.        ]\n",
      " [0.02857143 0.05714286 0.02857143 0.         0.         0.85714286\n",
      "  0.02857143 0.         0.        ]\n",
      " [0.         0.         0.01818182 0.         0.         0.\n",
      "  0.98181818 0.         0.        ]\n",
      " [0.04       0.04       0.         0.         0.         0.\n",
      "  0.         0.92       0.        ]\n",
      " [0.04347826 0.         0.02173913 0.         0.02173913 0.\n",
      "  0.         0.         0.91304348]]\n",
      "#######################\n",
      "(655, 9)\n",
      "(655, 1)\n"
     ]
    },
    {
     "name": "stderr",
     "output_type": "stream",
     "text": [
      "/usr/lib64/python3.8/site-packages/sklearn/neural_network/_multilayer_perceptron.py:568: ConvergenceWarning: Stochastic Optimizer: Maximum iterations (1000) reached and the optimization hasn't converged yet.\n",
      "  warnings.warn(\n",
      "/usr/lib64/python3.8/site-packages/sklearn/neural_network/_multilayer_perceptron.py:934: DataConversionWarning: A column-vector y was passed when a 1d array was expected. Please change the shape of y to (n_samples, ), for example using ravel().\n",
      "  y = column_or_1d(y, warn=True)\n"
     ]
    },
    {
     "name": "stdout",
     "output_type": "stream",
     "text": [
      "604.0\n",
      "Accuracy = 0.9221374045801527\n",
      "#### CONFUSION MATRIX ##########\n",
      "[[0.92307692 0.00641026 0.04487179 0.         0.01923077 0.\n",
      "  0.         0.00641026 0.        ]\n",
      " [0.03529412 0.89411765 0.02352941 0.01176471 0.03529412 0.\n",
      "  0.         0.         0.        ]\n",
      " [0.01030928 0.         0.95876289 0.02061856 0.01030928 0.\n",
      "  0.         0.         0.        ]\n",
      " [0.         0.         0.01960784 0.94117647 0.         0.\n",
      "  0.01960784 0.         0.01960784]\n",
      " [0.02857143 0.02857143 0.01904762 0.         0.9047619  0.\n",
      "  0.         0.         0.01904762]\n",
      " [0.02857143 0.02857143 0.         0.         0.         0.91428571\n",
      "  0.         0.02857143 0.        ]\n",
      " [0.         0.         0.05454545 0.         0.         0.\n",
      "  0.92727273 0.01818182 0.        ]\n",
      " [0.         0.         0.04       0.         0.         0.\n",
      "  0.         0.92       0.04      ]\n",
      " [0.04347826 0.02173913 0.02173913 0.         0.         0.\n",
      "  0.         0.         0.91304348]]\n",
      "#######################\n",
      "(655, 9)\n",
      "(655, 1)\n"
     ]
    },
    {
     "name": "stderr",
     "output_type": "stream",
     "text": [
      "/usr/lib64/python3.8/site-packages/sklearn/neural_network/_multilayer_perceptron.py:568: ConvergenceWarning: Stochastic Optimizer: Maximum iterations (1000) reached and the optimization hasn't converged yet.\n",
      "  warnings.warn(\n",
      "/usr/lib64/python3.8/site-packages/sklearn/neural_network/_multilayer_perceptron.py:934: DataConversionWarning: A column-vector y was passed when a 1d array was expected. Please change the shape of y to (n_samples, ), for example using ravel().\n",
      "  y = column_or_1d(y, warn=True)\n"
     ]
    },
    {
     "name": "stdout",
     "output_type": "stream",
     "text": [
      "614.0\n",
      "Accuracy = 0.9374045801526718\n",
      "#### CONFUSION MATRIX ##########\n",
      "[[0.98076923 0.         0.01282051 0.         0.00641026 0.\n",
      "  0.         0.         0.        ]\n",
      " [0.         0.89411765 0.02352941 0.         0.         0.02352941\n",
      "  0.03529412 0.02352941 0.        ]\n",
      " [0.01030928 0.01030928 0.94845361 0.02061856 0.         0.\n",
      "  0.01030928 0.         0.        ]\n",
      " [0.01960784 0.         0.         0.92156863 0.03921569 0.\n",
      "  0.         0.         0.01960784]\n",
      " [0.03809524 0.         0.00952381 0.01904762 0.93333333 0.\n",
      "  0.         0.         0.        ]\n",
      " [0.05714286 0.         0.         0.02857143 0.         0.88571429\n",
      "  0.02857143 0.         0.        ]\n",
      " [0.         0.01818182 0.05454545 0.01818182 0.         0.\n",
      "  0.90909091 0.         0.        ]\n",
      " [0.         0.         0.         0.         0.         0.\n",
      "  0.         1.         0.        ]\n",
      " [0.02173913 0.04347826 0.         0.         0.         0.02173913\n",
      "  0.         0.         0.91304348]]\n",
      "#######################\n",
      "(655, 9)\n",
      "(655, 1)\n"
     ]
    },
    {
     "name": "stderr",
     "output_type": "stream",
     "text": [
      "/usr/lib64/python3.8/site-packages/sklearn/neural_network/_multilayer_perceptron.py:568: ConvergenceWarning: Stochastic Optimizer: Maximum iterations (1000) reached and the optimization hasn't converged yet.\n",
      "  warnings.warn(\n",
      "/usr/lib64/python3.8/site-packages/sklearn/neural_network/_multilayer_perceptron.py:934: DataConversionWarning: A column-vector y was passed when a 1d array was expected. Please change the shape of y to (n_samples, ), for example using ravel().\n",
      "  y = column_or_1d(y, warn=True)\n"
     ]
    },
    {
     "name": "stdout",
     "output_type": "stream",
     "text": [
      "613.0\n",
      "Accuracy = 0.9358778625954198\n",
      "#### CONFUSION MATRIX ##########\n",
      "[[0.96153846 0.         0.00641026 0.         0.02564103 0.\n",
      "  0.00641026 0.         0.        ]\n",
      " [0.         0.92857143 0.02380952 0.01190476 0.03571429 0.\n",
      "  0.         0.         0.        ]\n",
      " [0.02061856 0.01030928 0.92783505 0.01030928 0.02061856 0.\n",
      "  0.         0.         0.01030928]\n",
      " [0.01923077 0.         0.03846154 0.86538462 0.01923077 0.\n",
      "  0.05769231 0.         0.        ]\n",
      " [0.01904762 0.00952381 0.02857143 0.         0.94285714 0.\n",
      "  0.         0.         0.        ]\n",
      " [0.         0.02857143 0.         0.         0.         0.97142857\n",
      "  0.         0.         0.        ]\n",
      " [0.07272727 0.         0.         0.01818182 0.         0.\n",
      "  0.90909091 0.         0.        ]\n",
      " [0.         0.         0.         0.04       0.         0.\n",
      "  0.         0.96       0.        ]\n",
      " [0.         0.02173913 0.         0.         0.02173913 0.02173913\n",
      "  0.         0.         0.93478261]]\n",
      "#######################\n",
      "(655, 9)\n",
      "(655, 1)\n"
     ]
    },
    {
     "name": "stderr",
     "output_type": "stream",
     "text": [
      "/usr/lib64/python3.8/site-packages/sklearn/neural_network/_multilayer_perceptron.py:568: ConvergenceWarning: Stochastic Optimizer: Maximum iterations (1000) reached and the optimization hasn't converged yet.\n",
      "  warnings.warn(\n",
      "/usr/lib64/python3.8/site-packages/sklearn/neural_network/_multilayer_perceptron.py:934: DataConversionWarning: A column-vector y was passed when a 1d array was expected. Please change the shape of y to (n_samples, ), for example using ravel().\n",
      "  y = column_or_1d(y, warn=True)\n"
     ]
    },
    {
     "name": "stdout",
     "output_type": "stream",
     "text": [
      "600.0\n",
      "Accuracy = 0.916030534351145\n",
      "#### CONFUSION MATRIX ##########\n",
      "[[0.92948718 0.01282051 0.01923077 0.01282051 0.00641026 0.\n",
      "  0.00641026 0.01282051 0.        ]\n",
      " [0.01190476 0.9047619  0.05952381 0.         0.01190476 0.\n",
      "  0.         0.         0.01190476]\n",
      " [0.02061856 0.         0.94845361 0.01030928 0.01030928 0.01030928\n",
      "  0.         0.         0.        ]\n",
      " [0.03846154 0.01923077 0.01923077 0.82692308 0.05769231 0.\n",
      "  0.         0.         0.03846154]\n",
      " [0.01904762 0.03809524 0.00952381 0.         0.9047619  0.\n",
      "  0.02857143 0.         0.        ]\n",
      " [0.         0.05555556 0.         0.02777778 0.02777778 0.88888889\n",
      "  0.         0.         0.        ]\n",
      " [0.         0.         0.01851852 0.         0.         0.\n",
      "  0.96296296 0.         0.01851852]\n",
      " [0.04       0.         0.         0.         0.         0.\n",
      "  0.         0.96       0.        ]\n",
      " [0.06521739 0.02173913 0.         0.         0.         0.\n",
      "  0.02173913 0.         0.89130435]]\n",
      "#######################\n",
      "(655, 9)\n",
      "(655, 1)\n",
      "596.0\n",
      "Accuracy = 0.9099236641221374\n",
      "#### CONFUSION MATRIX ##########\n",
      "[[0.94871795 0.01282051 0.01282051 0.         0.00641026 0.00641026\n",
      "  0.00641026 0.00641026 0.        ]\n",
      " [0.04761905 0.79761905 0.04761905 0.01190476 0.05952381 0.\n",
      "  0.02380952 0.01190476 0.        ]\n",
      " [0.         0.01020408 0.93877551 0.03061224 0.01020408 0.\n",
      "  0.         0.01020408 0.        ]\n",
      " [0.07692308 0.01923077 0.01923077 0.78846154 0.01923077 0.05769231\n",
      "  0.         0.         0.01923077]\n",
      " [0.03809524 0.01904762 0.         0.00952381 0.9047619  0.01904762\n",
      "  0.00952381 0.         0.        ]\n",
      " [0.         0.         0.02777778 0.         0.         0.97222222\n",
      "  0.         0.         0.        ]\n",
      " [0.         0.         0.01851852 0.01851852 0.         0.\n",
      "  0.96296296 0.         0.        ]\n",
      " [0.         0.08       0.         0.         0.         0.\n",
      "  0.         0.92       0.        ]\n",
      " [0.02222222 0.02222222 0.         0.         0.         0.\n",
      "  0.         0.         0.95555556]]\n",
      "#######################\n",
      "Max accuracy = 95.1145038167939\n",
      "Min accuracy = 90.99236641221374\n",
      "Avg accuracy = 92.74923198659468\n"
     ]
    },
    {
     "name": "stderr",
     "output_type": "stream",
     "text": [
      "/usr/lib64/python3.8/site-packages/sklearn/neural_network/_multilayer_perceptron.py:568: ConvergenceWarning: Stochastic Optimizer: Maximum iterations (1000) reached and the optimization hasn't converged yet.\n",
      "  warnings.warn(\n"
     ]
    }
   ],
   "source": [
    "from sklearn.model_selection import StratifiedKFold\n",
    "\n",
    "accuracy_max = 0.0\n",
    "accuracy_min = 100.0\n",
    "accuracy_avg = 0.0\n",
    "\n",
    "best_clf = 0\n",
    "\n",
    "k_cross_fold = 10\n",
    "\n",
    "skf = StratifiedKFold(n_splits=k_cross_fold)\n",
    "for train_index, test_index in skf.split(X, Y):\n",
    "    train_X, test_X = X[train_index], X[test_index]\n",
    "    train_Y, test_Y = Y[train_index], Y[test_index]\n",
    "    \n",
    "    accuracy, clf = MLP(train_X, test_X, train_Y, test_Y)\n",
    "    accuracy *= 100\n",
    "    \n",
    "    if(accuracy > accuracy_max):\n",
    "        accuracy_max = accuracy\n",
    "        best_clf = clf\n",
    "    accuracy_min = min(accuracy_min, accuracy)\n",
    "    accuracy_avg += accuracy\n",
    "    \n",
    "    print(\"#######################\")\n",
    "    \n",
    "print(\"Max accuracy = \" + str(accuracy_max))\n",
    "print(\"Min accuracy = \" + str(accuracy_min))\n",
    "print(\"Avg accuracy = \" + str(accuracy_avg/k_cross_fold))\n"
   ]
  },
  {
   "cell_type": "code",
   "execution_count": null,
   "metadata": {},
   "outputs": [],
   "source": []
  }
 ],
 "metadata": {
  "kernelspec": {
   "display_name": "Python 3",
   "language": "python",
   "name": "python3"
  },
  "language_info": {
   "codemirror_mode": {
    "name": "ipython",
    "version": 3
   },
   "file_extension": ".py",
   "mimetype": "text/x-python",
   "name": "python",
   "nbconvert_exporter": "python",
   "pygments_lexer": "ipython3",
   "version": "3.8.5"
  }
 },
 "nbformat": 4,
 "nbformat_minor": 2
}
